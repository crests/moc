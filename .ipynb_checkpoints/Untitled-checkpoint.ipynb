{
 "cells": [
  {
   "cell_type": "code",
   "execution_count": 10,
   "metadata": {},
   "outputs": [],
   "source": [
    "import os\n",
    "import csv\n",
    "import time\n",
    "\n",
    "csv_file = 'photo_list.csv'\n",
    "date_format = '%Y/%m/%d %H:%M:%S'\n",
    "\n",
    "file_list = []\n",
    "\n",
    "for file in os.listdir(\"httpdocs/assets/img/gallery/small\"):\n",
    "    # ファイルかどうか\n",
    "    is_file = os.path.isfile(file)\n",
    "    file_path = \"httpdocs/assets/img/gallery/small/\" + file\n",
    "    # このpyファイル自身でないか\n",
    "    # not_py_file = os.path.basename(__file__) != file\n",
    "    # リストCSVファイルでないか\n",
    "    #not_csv_file = csv_file != file\n",
    "\n",
    "    #if is_file  and not_csv_file:\n",
    "        # ファイル作成時刻\n",
    "    #time_crt = time.strftime(date_format,\n",
    "                                 #time.localtime(os.path.getctime(file_path)))\n",
    "        # ファイル更新時刻\n",
    "    #time_mod = time.strftime(date_format,\n",
    "                                 #time.localtime(os.path.getmtime(file_path)))\n",
    "\n",
    "    file_list.append([file])\n",
    "\n",
    "with open(csv_file, \"w\", newline=\"\") as f:\n",
    "    csv_writer = csv.writer(f)\n",
    "    for r in file_list:\n",
    "        csv_writer.writerow(r)"
   ]
  },
  {
   "cell_type": "code",
   "execution_count": null,
   "metadata": {},
   "outputs": [],
   "source": []
  }
 ],
 "metadata": {
  "kernelspec": {
   "display_name": "Python 3",
   "language": "python",
   "name": "python3"
  },
  "language_info": {
   "codemirror_mode": {
    "name": "ipython",
    "version": 3
   },
   "file_extension": ".py",
   "mimetype": "text/x-python",
   "name": "python",
   "nbconvert_exporter": "python",
   "pygments_lexer": "ipython3",
   "version": "3.6.8"
  }
 },
 "nbformat": 4,
 "nbformat_minor": 2
}
